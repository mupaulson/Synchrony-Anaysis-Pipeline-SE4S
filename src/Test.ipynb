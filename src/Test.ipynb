{
 "cells": [
  {
   "cell_type": "code",
   "execution_count": 64,
   "id": "52c38e2a-2399-44d3-83b4-517830237a34",
   "metadata": {},
   "outputs": [],
   "source": [
    "import pandas as pd\n",
    "import numpy as np\n",
    "import animal_data as ad\n",
    "import df_utils\n",
    "from animal_data import AnimalData\n",
    "import scipy.stats as sps\n",
    "import matplotlib.pyplot as plt\n",
    "import seaborn as sns"
   ]
  },
  {
   "cell_type": "code",
   "execution_count": 3,
   "id": "b80b0638-262f-4b98-9197-0b122d4d9e21",
   "metadata": {},
   "outputs": [
    {
     "name": "stdout",
     "output_type": "stream",
     "text": [
      "[(1650475072.560337, 0.2281846), (1650475072.660348, 1.662766), (1650475072.760359, -0.05668952), (1650475072.86037, 0.9681355), (1650475072.960381, 2.034298), (1650475073.060392, 2.497762), (1650475073.160403, 3.335557), (1650475073.260414, 2.472625), (1650475073.360425, 2.37616), (1650475073.460436, 2.112702)]\n",
      "{'C000': (1650475072.560337, 0.2281846), 'C001': (1650475072.560337, 4.353837), 'C002': (1650475072.560337, -8.42196)}\n"
     ]
    }
   ],
   "source": [
    "# from load_data.py\n",
    "animal_data = AnimalData.from_csv('../data/test.csv')\n",
    "\n",
    "# Get data for a specific cell\n",
    "print(animal_data.get_data_for_cell('C000', 10))\n",
    "\n",
    "# Get data for all cells at a specific timestamp\n",
    "print(animal_data.get_data_at_time(1650475072.560337))\n"
   ]
  },
  {
   "cell_type": "code",
   "execution_count": 4,
   "id": "0766647f-4916-4835-99e2-2b3759cecd06",
   "metadata": {},
   "outputs": [],
   "source": [
    "ani1_data = AnimalData.from_csv('../data/4659_day_2.csv')\n",
    "ani2_data = AnimalData.from_csv('../data/4807_day_2.csv')"
   ]
  },
  {
   "cell_type": "code",
   "execution_count": 4,
   "id": "de116384-e5dc-4ee8-91e0-c3b2f9b6b8cb",
   "metadata": {},
   "outputs": [
    {
     "name": "stdout",
     "output_type": "stream",
     "text": [
      "dict_keys(['C000', 'C001', 'C002', 'C003', 'C004', 'C005', 'C006', 'C007', 'C008', 'C009', 'C010', 'C011', 'C012', 'C013', 'C014', 'C015', 'C016', 'C017', 'C018', 'C019', 'C020', 'C021', 'C022', 'C023', 'C024', 'C025', 'C026', 'C027', 'C028', 'C029', 'C030', 'C031', 'C032', 'C033', 'C034', 'C035', 'C036', 'C037', 'C038', 'C039', 'C040', 'C041', 'C042', 'C043', 'C044', 'C045', 'C046', 'C047', 'C048', 'C049', 'C050', 'C051', 'C052', 'C053', 'C054', 'C055', 'C056', 'C057', 'C058', 'C059', 'C060', 'C061', 'C062', 'C063', 'C064', 'C065', 'C066', 'C067', 'C068', 'C069', 'C070', 'C071', 'C072', 'C073', 'C074', 'C075', 'C076', 'C077', 'C078', 'C079', 'C080', 'C081', 'C082', 'C083', 'C084', 'C085', 'C086', 'C087', 'C088', 'C089', 'C090', 'C091', 'C092', 'C093', 'C094', 'C095', 'C096', 'C097', 'C098', 'C099', 'C100', 'C101', 'C102', 'C103', 'C104', 'C105', 'C106', 'C107', 'C108', 'C109', 'C110', 'C111', 'C112', 'C113', 'C114', 'C115', 'C116', 'C117', 'C118', 'C119', 'C120', 'C121', 'C122', 'C123', 'C124', 'C125', 'C126', 'C127', 'C128', 'C129', 'C130', 'C131', 'C132', 'C133', 'C134', 'C135', 'C136', 'C137', 'C138', 'C139', 'C140', 'C141', 'C142', 'C143', 'C144', 'C145', 'C146', 'C147', 'C148', 'C149', 'C150', 'C151', 'C152', 'C153', 'C154', 'C155', 'C156', 'C157', 'C158', 'C159', 'C160', 'C161', 'C162', 'C163', 'C164', 'C165', 'C166', 'C167', 'C168', 'C169', 'C170', 'C171', 'C172', 'C173', 'C174', 'C175', 'C176', 'C177', 'C178', 'C179', 'C180', 'C181', 'C182', 'C183', 'C184', 'C185', 'C186', 'C187', 'C188', 'C189', 'C190', 'C191', 'C192', 'C193', 'C194', 'C195', 'C196', 'C197', 'C198', 'C199', 'C200'])\n"
     ]
    }
   ],
   "source": [
    "print(ani1_data.cell_data.keys())"
   ]
  },
  {
   "cell_type": "code",
   "execution_count": 6,
   "id": "1ea94018-50a0-4bcb-aa5a-fa9b62282605",
   "metadata": {},
   "outputs": [],
   "source": [
    "# from normalize_data.py\n",
    "def normalize_df(ani_data):\n",
    "    \"\"\"\n",
    "    Normalizes cell df/f data by dividing each cell column\n",
    "    by the max value in each column so that each cells max\n",
    "    value in the normalized df is 1.\n",
    "    Arg: ani_data- data from session in AnimalData \n",
    "         class structure\n",
    "    Returns: dfn, a dataframe of normalized data\n",
    "    \"\"\"\n",
    "    #cells = ani_data.cell_data.keys()\n",
    "    cells = ['C000', 'C001', 'C002', 'C003', 'C004', 'C005', 'C006',\n",
    "             'C007', 'C008', 'C009', 'C010', 'C011', 'C012', 'C013', \n",
    "             'C014', 'C015', 'C016', 'C017', 'C018', 'C019']\n",
    "    df = df_utils.animal_data_to_df(ani_data, cells)\n",
    "    m = np.max(df)\n",
    "    dfn= pd.DataFrame()\n",
    "    cols = df.columns\n",
    "    for i in range (len(cols)):\n",
    "        dfn[cols[i]] = (df[cols[i]]/m[i])\n",
    "    return dfn"
   ]
  },
  {
   "cell_type": "code",
   "execution_count": 7,
   "id": "87baf244-3fd3-4e3f-8a17-ce1e8a16d7b0",
   "metadata": {
    "tags": []
   },
   "outputs": [
    {
     "name": "stderr",
     "output_type": "stream",
     "text": [
      "/opt/conda/lib/python3.10/site-packages/numpy/core/fromnumeric.py:84: FutureWarning: In a future version, DataFrame.max(axis=None) will return a scalar max over the entire DataFrame. To retain the old behavior, use 'frame.max(axis=0)' or just 'frame.max()'\n",
      "  return reduction(axis=axis, out=out, **passkwargs)\n",
      "/opt/conda/lib/python3.10/site-packages/numpy/core/fromnumeric.py:84: FutureWarning: In a future version, DataFrame.max(axis=None) will return a scalar max over the entire DataFrame. To retain the old behavior, use 'frame.max(axis=0)' or just 'frame.max()'\n",
      "  return reduction(axis=axis, out=out, **passkwargs)\n"
     ]
    }
   ],
   "source": [
    "ani1_dfn = normalize_df(ani1_data)\n",
    "ani2_dfn = normalize_df(ani2_data)"
   ]
  },
  {
   "cell_type": "code",
   "execution_count": 8,
   "id": "91fcef94-c136-41d2-8586-bc5022c40ac7",
   "metadata": {
    "tags": []
   },
   "outputs": [
    {
     "data": {
      "text/html": [
       "<div>\n",
       "<style scoped>\n",
       "    .dataframe tbody tr th:only-of-type {\n",
       "        vertical-align: middle;\n",
       "    }\n",
       "\n",
       "    .dataframe tbody tr th {\n",
       "        vertical-align: top;\n",
       "    }\n",
       "\n",
       "    .dataframe thead th {\n",
       "        text-align: right;\n",
       "    }\n",
       "</style>\n",
       "<table border=\"1\" class=\"dataframe\">\n",
       "  <thead>\n",
       "    <tr style=\"text-align: right;\">\n",
       "      <th></th>\n",
       "      <th>C000</th>\n",
       "      <th>C001</th>\n",
       "      <th>C002</th>\n",
       "      <th>C003</th>\n",
       "      <th>C004</th>\n",
       "      <th>C005</th>\n",
       "      <th>C006</th>\n",
       "      <th>C007</th>\n",
       "      <th>C008</th>\n",
       "      <th>C009</th>\n",
       "      <th>C010</th>\n",
       "      <th>C011</th>\n",
       "      <th>C012</th>\n",
       "      <th>C013</th>\n",
       "      <th>C014</th>\n",
       "      <th>C015</th>\n",
       "      <th>C016</th>\n",
       "      <th>C017</th>\n",
       "      <th>C018</th>\n",
       "      <th>C019</th>\n",
       "    </tr>\n",
       "  </thead>\n",
       "  <tbody>\n",
       "    <tr>\n",
       "      <th>0</th>\n",
       "      <td>-0.019619</td>\n",
       "      <td>0.025452</td>\n",
       "      <td>-0.003827</td>\n",
       "      <td>0.027321</td>\n",
       "      <td>0.112102</td>\n",
       "      <td>0.046354</td>\n",
       "      <td>0.093651</td>\n",
       "      <td>-0.026775</td>\n",
       "      <td>0.075752</td>\n",
       "      <td>-0.028470</td>\n",
       "      <td>0.045625</td>\n",
       "      <td>-0.037437</td>\n",
       "      <td>0.040003</td>\n",
       "      <td>0.194330</td>\n",
       "      <td>-0.055425</td>\n",
       "      <td>0.038851</td>\n",
       "      <td>0.075975</td>\n",
       "      <td>0.033097</td>\n",
       "      <td>0.040894</td>\n",
       "      <td>0.035557</td>\n",
       "    </tr>\n",
       "    <tr>\n",
       "      <th>1</th>\n",
       "      <td>-0.006249</td>\n",
       "      <td>-0.011713</td>\n",
       "      <td>-0.021809</td>\n",
       "      <td>0.041709</td>\n",
       "      <td>0.108942</td>\n",
       "      <td>0.106324</td>\n",
       "      <td>0.266927</td>\n",
       "      <td>0.022442</td>\n",
       "      <td>0.028150</td>\n",
       "      <td>-0.018280</td>\n",
       "      <td>-0.001506</td>\n",
       "      <td>-0.062337</td>\n",
       "      <td>0.088463</td>\n",
       "      <td>0.151985</td>\n",
       "      <td>-0.055609</td>\n",
       "      <td>-0.007218</td>\n",
       "      <td>0.002382</td>\n",
       "      <td>0.082305</td>\n",
       "      <td>0.064122</td>\n",
       "      <td>0.063003</td>\n",
       "    </tr>\n",
       "    <tr>\n",
       "      <th>2</th>\n",
       "      <td>0.058096</td>\n",
       "      <td>-0.062857</td>\n",
       "      <td>-0.044368</td>\n",
       "      <td>-0.012323</td>\n",
       "      <td>0.110605</td>\n",
       "      <td>0.054975</td>\n",
       "      <td>0.183600</td>\n",
       "      <td>0.003538</td>\n",
       "      <td>0.020860</td>\n",
       "      <td>0.016414</td>\n",
       "      <td>0.017305</td>\n",
       "      <td>0.035261</td>\n",
       "      <td>0.044288</td>\n",
       "      <td>0.104791</td>\n",
       "      <td>-0.055785</td>\n",
       "      <td>0.034080</td>\n",
       "      <td>-0.034949</td>\n",
       "      <td>0.045340</td>\n",
       "      <td>0.054643</td>\n",
       "      <td>0.035716</td>\n",
       "    </tr>\n",
       "    <tr>\n",
       "      <th>3</th>\n",
       "      <td>0.034098</td>\n",
       "      <td>0.019470</td>\n",
       "      <td>-0.057691</td>\n",
       "      <td>0.064965</td>\n",
       "      <td>0.115416</td>\n",
       "      <td>0.084718</td>\n",
       "      <td>0.006447</td>\n",
       "      <td>0.015946</td>\n",
       "      <td>0.023418</td>\n",
       "      <td>0.006268</td>\n",
       "      <td>0.007210</td>\n",
       "      <td>-0.090983</td>\n",
       "      <td>0.080712</td>\n",
       "      <td>0.106022</td>\n",
       "      <td>-0.055952</td>\n",
       "      <td>0.020529</td>\n",
       "      <td>-0.066127</td>\n",
       "      <td>-0.073586</td>\n",
       "      <td>0.083909</td>\n",
       "      <td>0.058510</td>\n",
       "    </tr>\n",
       "    <tr>\n",
       "      <th>4</th>\n",
       "      <td>-0.045305</td>\n",
       "      <td>-0.003151</td>\n",
       "      <td>-0.069333</td>\n",
       "      <td>-0.007714</td>\n",
       "      <td>0.150137</td>\n",
       "      <td>0.026318</td>\n",
       "      <td>0.057356</td>\n",
       "      <td>0.031135</td>\n",
       "      <td>-0.032563</td>\n",
       "      <td>0.056782</td>\n",
       "      <td>0.014759</td>\n",
       "      <td>-0.112355</td>\n",
       "      <td>0.050122</td>\n",
       "      <td>0.165545</td>\n",
       "      <td>-0.056111</td>\n",
       "      <td>0.113973</td>\n",
       "      <td>0.000178</td>\n",
       "      <td>0.089067</td>\n",
       "      <td>0.086621</td>\n",
       "      <td>0.027908</td>\n",
       "    </tr>\n",
       "  </tbody>\n",
       "</table>\n",
       "</div>"
      ],
      "text/plain": [
       "       C000      C001      C002      C003      C004      C005      C006  \\\n",
       "0 -0.019619  0.025452 -0.003827  0.027321  0.112102  0.046354  0.093651   \n",
       "1 -0.006249 -0.011713 -0.021809  0.041709  0.108942  0.106324  0.266927   \n",
       "2  0.058096 -0.062857 -0.044368 -0.012323  0.110605  0.054975  0.183600   \n",
       "3  0.034098  0.019470 -0.057691  0.064965  0.115416  0.084718  0.006447   \n",
       "4 -0.045305 -0.003151 -0.069333 -0.007714  0.150137  0.026318  0.057356   \n",
       "\n",
       "       C007      C008      C009      C010      C011      C012      C013  \\\n",
       "0 -0.026775  0.075752 -0.028470  0.045625 -0.037437  0.040003  0.194330   \n",
       "1  0.022442  0.028150 -0.018280 -0.001506 -0.062337  0.088463  0.151985   \n",
       "2  0.003538  0.020860  0.016414  0.017305  0.035261  0.044288  0.104791   \n",
       "3  0.015946  0.023418  0.006268  0.007210 -0.090983  0.080712  0.106022   \n",
       "4  0.031135 -0.032563  0.056782  0.014759 -0.112355  0.050122  0.165545   \n",
       "\n",
       "       C014      C015      C016      C017      C018      C019  \n",
       "0 -0.055425  0.038851  0.075975  0.033097  0.040894  0.035557  \n",
       "1 -0.055609 -0.007218  0.002382  0.082305  0.064122  0.063003  \n",
       "2 -0.055785  0.034080 -0.034949  0.045340  0.054643  0.035716  \n",
       "3 -0.055952  0.020529 -0.066127 -0.073586  0.083909  0.058510  \n",
       "4 -0.056111  0.113973  0.000178  0.089067  0.086621  0.027908  "
      ]
     },
     "execution_count": 8,
     "metadata": {},
     "output_type": "execute_result"
    }
   ],
   "source": [
    "ani1_dfn.head()"
   ]
  },
  {
   "cell_type": "code",
   "execution_count": 9,
   "id": "1c4e6aae-60e4-4c35-93ee-048e6e37c154",
   "metadata": {},
   "outputs": [
    {
     "name": "stdout",
     "output_type": "stream",
     "text": [
      "<class 'pandas.core.frame.DataFrame'>\n",
      "RangeIndex: 12401 entries, 0 to 12400\n",
      "Data columns (total 20 columns):\n",
      " #   Column  Non-Null Count  Dtype  \n",
      "---  ------  --------------  -----  \n",
      " 0   C000    12401 non-null  float64\n",
      " 1   C001    12401 non-null  float64\n",
      " 2   C002    12401 non-null  float64\n",
      " 3   C003    12401 non-null  float64\n",
      " 4   C004    12401 non-null  float64\n",
      " 5   C005    12401 non-null  float64\n",
      " 6   C006    12401 non-null  float64\n",
      " 7   C007    12401 non-null  float64\n",
      " 8   C008    12401 non-null  float64\n",
      " 9   C009    12401 non-null  float64\n",
      " 10  C010    12401 non-null  float64\n",
      " 11  C011    12401 non-null  float64\n",
      " 12  C012    12401 non-null  float64\n",
      " 13  C013    12401 non-null  float64\n",
      " 14  C014    12401 non-null  float64\n",
      " 15  C015    12401 non-null  float64\n",
      " 16  C016    12401 non-null  float64\n",
      " 17  C017    12401 non-null  float64\n",
      " 18  C018    12401 non-null  float64\n",
      " 19  C019    12401 non-null  float64\n",
      "dtypes: float64(20)\n",
      "memory usage: 1.9 MB\n"
     ]
    }
   ],
   "source": [
    "ani1_dfn.info()"
   ]
  },
  {
   "cell_type": "code",
   "execution_count": 10,
   "id": "3bd30202-7954-43ca-91e7-d161170f8968",
   "metadata": {},
   "outputs": [
    {
     "name": "stdout",
     "output_type": "stream",
     "text": [
      "<class 'pandas.core.frame.DataFrame'>\n",
      "RangeIndex: 12538 entries, 0 to 12537\n",
      "Data columns (total 20 columns):\n",
      " #   Column  Non-Null Count  Dtype  \n",
      "---  ------  --------------  -----  \n",
      " 0   C000    12538 non-null  float64\n",
      " 1   C001    12538 non-null  float64\n",
      " 2   C002    12538 non-null  float64\n",
      " 3   C003    12538 non-null  float64\n",
      " 4   C004    12538 non-null  float64\n",
      " 5   C005    12538 non-null  float64\n",
      " 6   C006    12538 non-null  float64\n",
      " 7   C007    12538 non-null  float64\n",
      " 8   C008    12538 non-null  float64\n",
      " 9   C009    12538 non-null  float64\n",
      " 10  C010    12538 non-null  float64\n",
      " 11  C011    12538 non-null  float64\n",
      " 12  C012    12538 non-null  float64\n",
      " 13  C013    12538 non-null  float64\n",
      " 14  C014    12538 non-null  float64\n",
      " 15  C015    12538 non-null  float64\n",
      " 16  C016    12538 non-null  float64\n",
      " 17  C017    12538 non-null  float64\n",
      " 18  C018    12538 non-null  float64\n",
      " 19  C019    12538 non-null  float64\n",
      "dtypes: float64(20)\n",
      "memory usage: 1.9 MB\n"
     ]
    }
   ],
   "source": [
    "ani2_dfn.info()"
   ]
  },
  {
   "cell_type": "code",
   "execution_count": 11,
   "id": "75159266-c49a-4ea8-9240-bd57915c9824",
   "metadata": {},
   "outputs": [],
   "source": [
    "# making the normalized dfs the same length for current correlation function, also don't need the whole thing\n",
    "ani1_df_s = ani1_dfn.head(1000)\n",
    "ani2_df_s = ani2_dfn.head(1000)"
   ]
  },
  {
   "cell_type": "code",
   "execution_count": 12,
   "id": "1051076b-21a6-4b4b-88ab-8492107fcbfe",
   "metadata": {},
   "outputs": [],
   "source": [
    "# from correlate.py\n",
    "def correlation_matrix(dataframe1, dataframe2):\n",
    "    \n",
    "    data1 = dataframe1\n",
    "    data2 = dataframe2\n",
    "   \n",
    "    col1 = [c for c in data1.columns.values]\n",
    "    col2 = [c for c in data2.columns.values]\n",
    "\n",
    "    #convert columns to numpy to correlate\n",
    "    #if all values in the column are the same NaN values will be returned\n",
    "    corr_p = pd.DataFrame(data=[],index = col1, columns = col2)\n",
    "    corr_r = pd.DataFrame(data=[],index = col1, columns = col2)\n",
    "    \n",
    "    for c1 in col1:\n",
    "        for c2 in col2:\n",
    "            a1 = data1[c1].astype(float)\n",
    "            a2 = data2[c2].astype(float)\n",
    "            (r,p) = sps.pearsonr(a1,a2)\n",
    "            \n",
    "            corr_p.loc[c1,c2] = p\n",
    "            corr_r.loc[c1,c2] = r\n",
    "            \n",
    "    return corr_p, corr_r"
   ]
  },
  {
   "cell_type": "code",
   "execution_count": 13,
   "id": "6e1b1487-af12-4113-92bd-fcf63636123b",
   "metadata": {},
   "outputs": [],
   "source": [
    "p_data, r_data = correlation_matrix(ani1_df_s, ani2_df_s)"
   ]
  },
  {
   "cell_type": "code",
   "execution_count": 14,
   "id": "b5dc18d3-574e-4f92-9a22-45f616005cb2",
   "metadata": {},
   "outputs": [
    {
     "data": {
      "text/html": [
       "<div>\n",
       "<style scoped>\n",
       "    .dataframe tbody tr th:only-of-type {\n",
       "        vertical-align: middle;\n",
       "    }\n",
       "\n",
       "    .dataframe tbody tr th {\n",
       "        vertical-align: top;\n",
       "    }\n",
       "\n",
       "    .dataframe thead th {\n",
       "        text-align: right;\n",
       "    }\n",
       "</style>\n",
       "<table border=\"1\" class=\"dataframe\">\n",
       "  <thead>\n",
       "    <tr style=\"text-align: right;\">\n",
       "      <th></th>\n",
       "      <th>C000</th>\n",
       "      <th>C001</th>\n",
       "      <th>C002</th>\n",
       "      <th>C003</th>\n",
       "      <th>C004</th>\n",
       "      <th>C005</th>\n",
       "      <th>C006</th>\n",
       "      <th>C007</th>\n",
       "      <th>C008</th>\n",
       "      <th>C009</th>\n",
       "      <th>C010</th>\n",
       "      <th>C011</th>\n",
       "      <th>C012</th>\n",
       "      <th>C013</th>\n",
       "      <th>C014</th>\n",
       "      <th>C015</th>\n",
       "      <th>C016</th>\n",
       "      <th>C017</th>\n",
       "      <th>C018</th>\n",
       "      <th>C019</th>\n",
       "    </tr>\n",
       "  </thead>\n",
       "  <tbody>\n",
       "    <tr>\n",
       "      <th>C000</th>\n",
       "      <td>0.0</td>\n",
       "      <td>0.664469</td>\n",
       "      <td>0.711908</td>\n",
       "      <td>0.137153</td>\n",
       "      <td>0.27335</td>\n",
       "      <td>0.095155</td>\n",
       "      <td>0.000002</td>\n",
       "      <td>0.0</td>\n",
       "      <td>0.0</td>\n",
       "      <td>0.001179</td>\n",
       "      <td>0.001644</td>\n",
       "      <td>0.149564</td>\n",
       "      <td>0.00003</td>\n",
       "      <td>0.129292</td>\n",
       "      <td>0.756002</td>\n",
       "      <td>0.174306</td>\n",
       "      <td>0.0</td>\n",
       "      <td>0.613052</td>\n",
       "      <td>0.701914</td>\n",
       "      <td>0.293386</td>\n",
       "    </tr>\n",
       "    <tr>\n",
       "      <th>C001</th>\n",
       "      <td>0.000059</td>\n",
       "      <td>0.311921</td>\n",
       "      <td>0.690249</td>\n",
       "      <td>0.0</td>\n",
       "      <td>0.619637</td>\n",
       "      <td>0.737824</td>\n",
       "      <td>0.000002</td>\n",
       "      <td>0.0</td>\n",
       "      <td>0.000259</td>\n",
       "      <td>0.037079</td>\n",
       "      <td>0.13024</td>\n",
       "      <td>0.165122</td>\n",
       "      <td>0.0</td>\n",
       "      <td>0.283811</td>\n",
       "      <td>0.440747</td>\n",
       "      <td>0.010927</td>\n",
       "      <td>0.317996</td>\n",
       "      <td>0.447433</td>\n",
       "      <td>0.323077</td>\n",
       "      <td>0.0087</td>\n",
       "    </tr>\n",
       "    <tr>\n",
       "      <th>C002</th>\n",
       "      <td>0.0</td>\n",
       "      <td>0.00063</td>\n",
       "      <td>0.038847</td>\n",
       "      <td>0.0</td>\n",
       "      <td>0.199108</td>\n",
       "      <td>0.270756</td>\n",
       "      <td>0.0</td>\n",
       "      <td>0.0</td>\n",
       "      <td>0.000007</td>\n",
       "      <td>0.0</td>\n",
       "      <td>0.000062</td>\n",
       "      <td>0.042098</td>\n",
       "      <td>0.0</td>\n",
       "      <td>0.069541</td>\n",
       "      <td>0.049767</td>\n",
       "      <td>0.028865</td>\n",
       "      <td>0.745422</td>\n",
       "      <td>0.725251</td>\n",
       "      <td>0.00001</td>\n",
       "      <td>0.0</td>\n",
       "    </tr>\n",
       "    <tr>\n",
       "      <th>C003</th>\n",
       "      <td>0.0</td>\n",
       "      <td>0.230105</td>\n",
       "      <td>0.739258</td>\n",
       "      <td>0.391102</td>\n",
       "      <td>0.000009</td>\n",
       "      <td>0.875729</td>\n",
       "      <td>0.0</td>\n",
       "      <td>0.0</td>\n",
       "      <td>0.000014</td>\n",
       "      <td>0.00438</td>\n",
       "      <td>0.000009</td>\n",
       "      <td>0.0</td>\n",
       "      <td>0.0</td>\n",
       "      <td>0.693301</td>\n",
       "      <td>0.006048</td>\n",
       "      <td>0.0</td>\n",
       "      <td>0.000436</td>\n",
       "      <td>0.000426</td>\n",
       "      <td>0.0</td>\n",
       "      <td>0.0</td>\n",
       "    </tr>\n",
       "    <tr>\n",
       "      <th>C004</th>\n",
       "      <td>0.0</td>\n",
       "      <td>0.0</td>\n",
       "      <td>0.0</td>\n",
       "      <td>0.0</td>\n",
       "      <td>0.00072</td>\n",
       "      <td>0.0</td>\n",
       "      <td>0.0</td>\n",
       "      <td>0.0</td>\n",
       "      <td>0.0</td>\n",
       "      <td>0.787747</td>\n",
       "      <td>0.0</td>\n",
       "      <td>0.973248</td>\n",
       "      <td>0.0</td>\n",
       "      <td>0.0</td>\n",
       "      <td>0.0</td>\n",
       "      <td>0.231867</td>\n",
       "      <td>0.0</td>\n",
       "      <td>0.000007</td>\n",
       "      <td>0.000377</td>\n",
       "      <td>0.0</td>\n",
       "    </tr>\n",
       "  </tbody>\n",
       "</table>\n",
       "</div>"
      ],
      "text/plain": [
       "          C000      C001      C002      C003      C004      C005      C006  \\\n",
       "C000       0.0  0.664469  0.711908  0.137153   0.27335  0.095155  0.000002   \n",
       "C001  0.000059  0.311921  0.690249       0.0  0.619637  0.737824  0.000002   \n",
       "C002       0.0   0.00063  0.038847       0.0  0.199108  0.270756       0.0   \n",
       "C003       0.0  0.230105  0.739258  0.391102  0.000009  0.875729       0.0   \n",
       "C004       0.0       0.0       0.0       0.0   0.00072       0.0       0.0   \n",
       "\n",
       "     C007      C008      C009      C010      C011     C012      C013  \\\n",
       "C000  0.0       0.0  0.001179  0.001644  0.149564  0.00003  0.129292   \n",
       "C001  0.0  0.000259  0.037079   0.13024  0.165122      0.0  0.283811   \n",
       "C002  0.0  0.000007       0.0  0.000062  0.042098      0.0  0.069541   \n",
       "C003  0.0  0.000014   0.00438  0.000009       0.0      0.0  0.693301   \n",
       "C004  0.0       0.0  0.787747       0.0  0.973248      0.0       0.0   \n",
       "\n",
       "          C014      C015      C016      C017      C018      C019  \n",
       "C000  0.756002  0.174306       0.0  0.613052  0.701914  0.293386  \n",
       "C001  0.440747  0.010927  0.317996  0.447433  0.323077    0.0087  \n",
       "C002  0.049767  0.028865  0.745422  0.725251   0.00001       0.0  \n",
       "C003  0.006048       0.0  0.000436  0.000426       0.0       0.0  \n",
       "C004       0.0  0.231867       0.0  0.000007  0.000377       0.0  "
      ]
     },
     "execution_count": 14,
     "metadata": {},
     "output_type": "execute_result"
    }
   ],
   "source": [
    "p_data.head()"
   ]
  },
  {
   "cell_type": "code",
   "execution_count": 15,
   "id": "777ffc52-4f87-4590-acc6-9f65932130cc",
   "metadata": {},
   "outputs": [
    {
     "data": {
      "text/html": [
       "<div>\n",
       "<style scoped>\n",
       "    .dataframe tbody tr th:only-of-type {\n",
       "        vertical-align: middle;\n",
       "    }\n",
       "\n",
       "    .dataframe tbody tr th {\n",
       "        vertical-align: top;\n",
       "    }\n",
       "\n",
       "    .dataframe thead th {\n",
       "        text-align: right;\n",
       "    }\n",
       "</style>\n",
       "<table border=\"1\" class=\"dataframe\">\n",
       "  <thead>\n",
       "    <tr style=\"text-align: right;\">\n",
       "      <th></th>\n",
       "      <th>C000</th>\n",
       "      <th>C001</th>\n",
       "      <th>C002</th>\n",
       "      <th>C003</th>\n",
       "      <th>C004</th>\n",
       "      <th>C005</th>\n",
       "      <th>C006</th>\n",
       "      <th>C007</th>\n",
       "      <th>C008</th>\n",
       "      <th>C009</th>\n",
       "      <th>C010</th>\n",
       "      <th>C011</th>\n",
       "      <th>C012</th>\n",
       "      <th>C013</th>\n",
       "      <th>C014</th>\n",
       "      <th>C015</th>\n",
       "      <th>C016</th>\n",
       "      <th>C017</th>\n",
       "      <th>C018</th>\n",
       "      <th>C019</th>\n",
       "    </tr>\n",
       "  </thead>\n",
       "  <tbody>\n",
       "    <tr>\n",
       "      <th>C000</th>\n",
       "      <td>-0.2766</td>\n",
       "      <td>-0.013733</td>\n",
       "      <td>-0.011692</td>\n",
       "      <td>-0.047039</td>\n",
       "      <td>-0.034672</td>\n",
       "      <td>-0.052802</td>\n",
       "      <td>0.150318</td>\n",
       "      <td>0.199071</td>\n",
       "      <td>0.172236</td>\n",
       "      <td>0.102437</td>\n",
       "      <td>0.099428</td>\n",
       "      <td>-0.045604</td>\n",
       "      <td>0.131575</td>\n",
       "      <td>0.048001</td>\n",
       "      <td>0.009838</td>\n",
       "      <td>-0.042993</td>\n",
       "      <td>0.235232</td>\n",
       "      <td>-0.016011</td>\n",
       "      <td>0.012118</td>\n",
       "      <td>-0.033259</td>\n",
       "    </tr>\n",
       "    <tr>\n",
       "      <th>C001</th>\n",
       "      <td>0.126643</td>\n",
       "      <td>-0.032009</td>\n",
       "      <td>-0.012618</td>\n",
       "      <td>0.165396</td>\n",
       "      <td>-0.015715</td>\n",
       "      <td>-0.010598</td>\n",
       "      <td>-0.151198</td>\n",
       "      <td>-0.168665</td>\n",
       "      <td>0.115284</td>\n",
       "      <td>0.065941</td>\n",
       "      <td>-0.047883</td>\n",
       "      <td>0.043928</td>\n",
       "      <td>-0.222643</td>\n",
       "      <td>-0.033926</td>\n",
       "      <td>-0.024406</td>\n",
       "      <td>0.080451</td>\n",
       "      <td>0.03161</td>\n",
       "      <td>-0.02405</td>\n",
       "      <td>-0.03128</td>\n",
       "      <td>0.082927</td>\n",
       "    </tr>\n",
       "    <tr>\n",
       "      <th>C002</th>\n",
       "      <td>-0.217816</td>\n",
       "      <td>-0.107914</td>\n",
       "      <td>0.065338</td>\n",
       "      <td>-0.158374</td>\n",
       "      <td>-0.040641</td>\n",
       "      <td>0.03486</td>\n",
       "      <td>0.306268</td>\n",
       "      <td>0.294274</td>\n",
       "      <td>-0.141531</td>\n",
       "      <td>-0.159374</td>\n",
       "      <td>0.126255</td>\n",
       "      <td>-0.064289</td>\n",
       "      <td>0.352652</td>\n",
       "      <td>-0.057416</td>\n",
       "      <td>-0.06206</td>\n",
       "      <td>-0.06911</td>\n",
       "      <td>0.01028</td>\n",
       "      <td>0.011127</td>\n",
       "      <td>-0.138917</td>\n",
       "      <td>-0.178784</td>\n",
       "    </tr>\n",
       "    <tr>\n",
       "      <th>C003</th>\n",
       "      <td>-0.325327</td>\n",
       "      <td>0.037984</td>\n",
       "      <td>-0.010538</td>\n",
       "      <td>0.027149</td>\n",
       "      <td>-0.140198</td>\n",
       "      <td>0.004952</td>\n",
       "      <td>0.248362</td>\n",
       "      <td>0.386198</td>\n",
       "      <td>0.137045</td>\n",
       "      <td>0.090035</td>\n",
       "      <td>0.139525</td>\n",
       "      <td>-0.164052</td>\n",
       "      <td>0.211933</td>\n",
       "      <td>-0.012487</td>\n",
       "      <td>-0.086754</td>\n",
       "      <td>-0.162956</td>\n",
       "      <td>-0.111018</td>\n",
       "      <td>-0.111208</td>\n",
       "      <td>-0.183023</td>\n",
       "      <td>-0.24529</td>\n",
       "    </tr>\n",
       "    <tr>\n",
       "      <th>C004</th>\n",
       "      <td>0.497992</td>\n",
       "      <td>-0.182648</td>\n",
       "      <td>0.322055</td>\n",
       "      <td>-0.275208</td>\n",
       "      <td>-0.106774</td>\n",
       "      <td>0.471518</td>\n",
       "      <td>-0.245985</td>\n",
       "      <td>-0.291356</td>\n",
       "      <td>-0.162917</td>\n",
       "      <td>0.008525</td>\n",
       "      <td>-0.256842</td>\n",
       "      <td>0.001062</td>\n",
       "      <td>-0.415966</td>\n",
       "      <td>0.332233</td>\n",
       "      <td>-0.190332</td>\n",
       "      <td>-0.037841</td>\n",
       "      <td>-0.216139</td>\n",
       "      <td>-0.141398</td>\n",
       "      <td>-0.112225</td>\n",
       "      <td>0.215466</td>\n",
       "    </tr>\n",
       "  </tbody>\n",
       "</table>\n",
       "</div>"
      ],
      "text/plain": [
       "          C000      C001      C002      C003      C004      C005      C006  \\\n",
       "C000   -0.2766 -0.013733 -0.011692 -0.047039 -0.034672 -0.052802  0.150318   \n",
       "C001  0.126643 -0.032009 -0.012618  0.165396 -0.015715 -0.010598 -0.151198   \n",
       "C002 -0.217816 -0.107914  0.065338 -0.158374 -0.040641   0.03486  0.306268   \n",
       "C003 -0.325327  0.037984 -0.010538  0.027149 -0.140198  0.004952  0.248362   \n",
       "C004  0.497992 -0.182648  0.322055 -0.275208 -0.106774  0.471518 -0.245985   \n",
       "\n",
       "          C007      C008      C009      C010      C011      C012      C013  \\\n",
       "C000  0.199071  0.172236  0.102437  0.099428 -0.045604  0.131575  0.048001   \n",
       "C001 -0.168665  0.115284  0.065941 -0.047883  0.043928 -0.222643 -0.033926   \n",
       "C002  0.294274 -0.141531 -0.159374  0.126255 -0.064289  0.352652 -0.057416   \n",
       "C003  0.386198  0.137045  0.090035  0.139525 -0.164052  0.211933 -0.012487   \n",
       "C004 -0.291356 -0.162917  0.008525 -0.256842  0.001062 -0.415966  0.332233   \n",
       "\n",
       "          C014      C015      C016      C017      C018      C019  \n",
       "C000  0.009838 -0.042993  0.235232 -0.016011  0.012118 -0.033259  \n",
       "C001 -0.024406  0.080451   0.03161  -0.02405  -0.03128  0.082927  \n",
       "C002  -0.06206  -0.06911   0.01028  0.011127 -0.138917 -0.178784  \n",
       "C003 -0.086754 -0.162956 -0.111018 -0.111208 -0.183023  -0.24529  \n",
       "C004 -0.190332 -0.037841 -0.216139 -0.141398 -0.112225  0.215466  "
      ]
     },
     "execution_count": 15,
     "metadata": {},
     "output_type": "execute_result"
    }
   ],
   "source": [
    "r_data.head()"
   ]
  },
  {
   "cell_type": "code",
   "execution_count": 16,
   "id": "22e95376-d7c4-44ce-a12d-492dfbd8d4ce",
   "metadata": {},
   "outputs": [
    {
     "name": "stdout",
     "output_type": "stream",
     "text": [
      "<class 'pandas.core.frame.DataFrame'>\n",
      "Index: 20 entries, C000 to C019\n",
      "Data columns (total 20 columns):\n",
      " #   Column  Non-Null Count  Dtype \n",
      "---  ------  --------------  ----- \n",
      " 0   C000    20 non-null     object\n",
      " 1   C001    20 non-null     object\n",
      " 2   C002    20 non-null     object\n",
      " 3   C003    20 non-null     object\n",
      " 4   C004    20 non-null     object\n",
      " 5   C005    20 non-null     object\n",
      " 6   C006    20 non-null     object\n",
      " 7   C007    20 non-null     object\n",
      " 8   C008    20 non-null     object\n",
      " 9   C009    20 non-null     object\n",
      " 10  C010    20 non-null     object\n",
      " 11  C011    20 non-null     object\n",
      " 12  C012    20 non-null     object\n",
      " 13  C013    20 non-null     object\n",
      " 14  C014    20 non-null     object\n",
      " 15  C015    20 non-null     object\n",
      " 16  C016    20 non-null     object\n",
      " 17  C017    20 non-null     object\n",
      " 18  C018    20 non-null     object\n",
      " 19  C019    20 non-null     object\n",
      "dtypes: object(20)\n",
      "memory usage: 3.8+ KB\n"
     ]
    }
   ],
   "source": [
    "r_data.info()"
   ]
  },
  {
   "cell_type": "code",
   "execution_count": 31,
   "id": "b607ec07-f77d-46bb-8f14-f501b8619690",
   "metadata": {},
   "outputs": [],
   "source": [
    "# from cell_slicer.py\n",
    "def cell_query(r_data, query, p_data=None, x_per=None, alpha=0.05):\n",
    "    #  sorting correlation df code from geeksforgeeks\n",
    "    # Retain upper triangular values of correlation matrix and \n",
    "    # make Lower triangular values Null \n",
    "    upper_corr_mat = r_data.where( \n",
    "        np.triu(np.ones(r_data.shape), k=1).astype(np.bool)) \n",
    "\n",
    "    # Convert to 1-D series and drop Null values \n",
    "    unique_corr_pairs = upper_corr_mat.unstack().dropna() \n",
    "\n",
    "    # Sort correlation pairs, need to keep values but sort based on absolute value \n",
    "    order = unique_corr_pairs.abs().sort_values(ascending = False)\n",
    "    ind = order.index\n",
    "    sorted_mat = unique_corr_pairs[ind] \n",
    "    # sorted cell pairs, python dicts are now sorted so this works to keep sorted order\n",
    "    sorted_cps =sorted_mat.keys()\n",
    "    # slice based on correlation signinficance:\n",
    "    if query == 'sig':\n",
    "        if p_data is None:\n",
    "            print('Error: if query is sig must input p_data')\n",
    "            return None\n",
    "        if alpha is None:\n",
    "            print('Error: if query is sig must input a')\n",
    "            return None\n",
    "        else:\n",
    "            try:\n",
    "                p_upper_corr_mat = p_data.where( \n",
    "                    np.triu(np.ones(r_data.shape), k=1).astype(np.bool)) \n",
    "\n",
    "                # Convert to 1-D series and drop Null values \n",
    "                p_unique_corr_pairs = p_upper_corr_mat.unstack().dropna() \n",
    "\n",
    "                # Sort correlation pairs \n",
    "                p_sorted_mat = p_unique_corr_pairs.sort_values()\n",
    "                # sorted cell pairs, python dicts are now sorted so this works to keep sorted order\n",
    "                p_sorted_cps =sorted_mat.keys()\n",
    "                sig_cell_pairs = p_sorted_mat.loc[:, p_sorted_mat.loc[:] < 0.05] #might make alpha arg\n",
    "                x_len = len(sig_cell_pairs)\n",
    "                cell_pairs = []\n",
    "                for i in range(x_len):\n",
    "                    cells= sorted_cps[i]\n",
    "                    cell_pairs.append(cells)\n",
    "                return cell_pairs, sorted_mat, p_sorted_mat\n",
    "            except:\n",
    "                print('some error happened here')\n",
    "                return None\n",
    "                \n",
    "    #  slice based on top x percent\n",
    "    elif query == 'top':\n",
    "        if x_per is None:\n",
    "            print('Error: if query is top must input x_per')\n",
    "            return None\n",
    "        else:\n",
    "            per = x_per/100\n",
    "            l = len(sorted_cps)\n",
    "            x_len = round(l*per)\n",
    "            print(l)\n",
    "            print(x_len)\n",
    "            cell_pairs = []\n",
    "            for i in range(x_len):\n",
    "                cells= sorted_cps[i]\n",
    "                cell_pairs.append(cells)\n",
    "            return cell_pairs, sorted_mat\n",
    "            \n",
    "    else:\n",
    "        print('Error: query must be sig or top')\n",
    "        return None\n",
    "    "
   ]
  },
  {
   "cell_type": "code",
   "execution_count": 20,
   "id": "4de16bfb-cd4a-4c73-b3e6-5e6f97844e88",
   "metadata": {},
   "outputs": [
    {
     "name": "stdout",
     "output_type": "stream",
     "text": [
      "190\n",
      "10\n"
     ]
    },
    {
     "name": "stderr",
     "output_type": "stream",
     "text": [
      "/tmp/ipykernel_409/1227609116.py:7: DeprecationWarning: `np.bool` is a deprecated alias for the builtin `bool`. To silence this warning, use `bool` by itself. Doing this will not modify any behavior and is safe. If you specifically wanted the numpy scalar type, use `np.bool_` here.\n",
      "Deprecated in NumPy 1.20; for more details and guidance: https://numpy.org/devdocs/release/1.20.0-notes.html#deprecations\n",
      "  np.triu(np.ones(r_data.shape), k=1).astype(np.bool))\n"
     ]
    }
   ],
   "source": [
    "# calculating top 5% of cell pairs for correlation\n",
    "top_5_per_cell_pairs, t5_sorted_matrix = cell_query(r_data, 'top', x_per=5)\n"
   ]
  },
  {
   "cell_type": "code",
   "execution_count": 22,
   "id": "f686aa7b-814b-420d-869f-e1ae28c3bde1",
   "metadata": {},
   "outputs": [
    {
     "data": {
      "text/plain": [
       "10"
      ]
     },
     "execution_count": 22,
     "metadata": {},
     "output_type": "execute_result"
    }
   ],
   "source": [
    "len(top_5_per_cell_pairs)"
   ]
  },
  {
   "cell_type": "code",
   "execution_count": 23,
   "id": "08f4706a-41a8-4513-a088-14f23031a62d",
   "metadata": {},
   "outputs": [
    {
     "data": {
      "text/plain": [
       "C005  C004    0.471518\n",
       "C012  C004   -0.415966\n",
       "C007  C003    0.386198\n",
       "C012  C002    0.352652\n",
       "      C009    0.344091\n",
       "                ...   \n",
       "C018  C007    0.004622\n",
       "C013  C010    0.003574\n",
       "C011  C004    0.001062\n",
       "C019  C007    0.001015\n",
       "C016  C009    0.000901\n",
       "Length: 190, dtype: object"
      ]
     },
     "execution_count": 23,
     "metadata": {},
     "output_type": "execute_result"
    }
   ],
   "source": [
    "t5_sorted_matrix"
   ]
  },
  {
   "cell_type": "code",
   "execution_count": 32,
   "id": "eedcbafe-0781-4275-a9dd-710a81ab02bb",
   "metadata": {},
   "outputs": [
    {
     "name": "stderr",
     "output_type": "stream",
     "text": [
      "/tmp/ipykernel_409/2994034472.py:7: DeprecationWarning: `np.bool` is a deprecated alias for the builtin `bool`. To silence this warning, use `bool` by itself. Doing this will not modify any behavior and is safe. If you specifically wanted the numpy scalar type, use `np.bool_` here.\n",
      "Deprecated in NumPy 1.20; for more details and guidance: https://numpy.org/devdocs/release/1.20.0-notes.html#deprecations\n",
      "  np.triu(np.ones(r_data.shape), k=1).astype(np.bool))\n",
      "/tmp/ipykernel_409/2994034472.py:29: DeprecationWarning: `np.bool` is a deprecated alias for the builtin `bool`. To silence this warning, use `bool` by itself. Doing this will not modify any behavior and is safe. If you specifically wanted the numpy scalar type, use `np.bool_` here.\n",
      "Deprecated in NumPy 1.20; for more details and guidance: https://numpy.org/devdocs/release/1.20.0-notes.html#deprecations\n",
      "  np.triu(np.ones(r_data.shape), k=1).astype(np.bool))\n"
     ]
    }
   ],
   "source": [
    "# slicing the significant cell pairs for the correlation\n",
    "sig_cell_pairs, sig_sorted_matirx, pvals_sorted = cell_query(r_data, 'sig', p_data=p_data) "
   ]
  },
  {
   "cell_type": "code",
   "execution_count": 26,
   "id": "6edcfd57-b25a-4da8-821d-2f70729b429f",
   "metadata": {},
   "outputs": [
    {
     "data": {
      "text/plain": [
       "118"
      ]
     },
     "execution_count": 26,
     "metadata": {},
     "output_type": "execute_result"
    }
   ],
   "source": [
    "len(sig_cell_pairs)"
   ]
  },
  {
   "cell_type": "code",
   "execution_count": 47,
   "id": "73f61dae-8bb6-484e-8158-689a8f31d6a1",
   "metadata": {},
   "outputs": [
    {
     "data": {
      "text/plain": [
       "C005  C004    0.471518\n",
       "C012  C004   -0.415966\n",
       "C007  C003    0.386198\n",
       "C012  C002    0.352652\n",
       "      C009    0.344091\n",
       "                ...   \n",
       "C018  C007    0.004622\n",
       "C013  C010    0.003574\n",
       "C011  C004    0.001062\n",
       "C019  C007    0.001015\n",
       "C016  C009    0.000901\n",
       "Length: 190, dtype: object"
      ]
     },
     "execution_count": 47,
     "metadata": {},
     "output_type": "execute_result"
    }
   ],
   "source": [
    "sig_sorted_matirx"
   ]
  },
  {
   "cell_type": "code",
   "execution_count": 49,
   "id": "470540f8-f8ab-441e-b41b-35e639ed14e4",
   "metadata": {},
   "outputs": [
    {
     "data": {
      "text/plain": [
       "['/bin/bash: line 1: 0: command not found']"
      ]
     },
     "execution_count": 49,
     "metadata": {},
     "output_type": "execute_result"
    }
   ],
   "source": [
    "# unsure why this is part of the series, looks like it's only the p values sorted matrix for some reason\n",
    "pvals_sorted[-1]"
   ]
  },
  {
   "cell_type": "code",
   "execution_count": 51,
   "id": "143492f8-04db-45d3-9dc0-d849d7df0481",
   "metadata": {},
   "outputs": [
    {
     "data": {
      "text/plain": [
       "[('C005', 'C004'),\n",
       " ('C012', 'C004'),\n",
       " ('C007', 'C003'),\n",
       " ('C012', 'C002'),\n",
       " ('C012', 'C009'),\n",
       " ('C013', 'C004'),\n",
       " ('C007', 'C006'),\n",
       " ('C012', 'C006'),\n",
       " ('C006', 'C002'),\n",
       " ('C007', 'C002')]"
      ]
     },
     "execution_count": 51,
     "metadata": {},
     "output_type": "execute_result"
    }
   ],
   "source": [
    "sig_cell_pairs[:10]"
   ]
  },
  {
   "cell_type": "code",
   "execution_count": 57,
   "id": "93545821-98d5-49b7-aa5b-9b7e3c1da950",
   "metadata": {},
   "outputs": [
    {
     "data": {
      "text/plain": [
       "'C003'"
      ]
     },
     "execution_count": 57,
     "metadata": {},
     "output_type": "execute_result"
    }
   ],
   "source": [
    "top_5_per_cell_pairs[2][1]"
   ]
  },
  {
   "cell_type": "code",
   "execution_count": 52,
   "id": "c9dd11a7-431d-4519-8ab3-8764365516f3",
   "metadata": {},
   "outputs": [],
   "source": [
    "# from create_plot.py\n",
    "def create_line_plot(data, cells, output_filename):\n",
    "    \"\"\"Generates line plot of neural activity over time for cells.\"\"\"\n",
    "    plt.figure(figsize=(12, 7))\n",
    "    for cell in cells:\n",
    "        timestamps, values = zip(*data.get_data_for_cell(cell))\n",
    "        plt.plot(timestamps, values, label=cell)\n",
    "    plt.xlabel('Timestamp')\n",
    "    plt.ylabel('Neural Activity Value')\n",
    "    plt.title('Neural Activity Over Time')\n",
    "    plt.legend()\n",
    "    plt.grid(True)\n",
    "    plt.tight_layout()\n",
    "    #plt.savefig(output_filename)\n",
    "\n",
    "def create_correlation_matrix(data, cells, output_filename):\n",
    "    \"\"\"Generate heatmap of correlation matrix of neural activity.\"\"\"\n",
    "    subset_data = {\n",
    "        cell: [value for _, value in data.get_data_for_cell(cell)]\n",
    "        for cell in cells\n",
    "    }\n",
    "    # Create dataframe to get easy correlation matrix functionality\n",
    "    df = pd.DataFrame(subset_data)\n",
    "    correlation_matrix = df.corr()\n",
    "    plt.figure(figsize=(12, 7))\n",
    "    sns.heatmap(correlation_matrix, annot=True,\n",
    "                cmap='coolwarm', vmin=-1, vmax=1)\n",
    "    plt.title('Correlation Matrix of Neural Activity')\n",
    "    plt.tight_layout()\n",
    "    #plt.savefig(output_filename)"
   ]
  },
  {
   "cell_type": "code",
   "execution_count": 54,
   "id": "9499a4e7-72f2-4cb8-b2b2-c9acc516c42f",
   "metadata": {},
   "outputs": [],
   "source": [
    "# saving my normalized dfs as csvs to load back into data loader\n",
    "ani1_dfn.to_csv('ani1_normalized_test.csv')\n",
    "ani2_dfn.to_csv('ani2_normalized_test.csv')"
   ]
  },
  {
   "cell_type": "code",
   "execution_count": 55,
   "id": "efe879c1-acf0-4dc4-8987-93b7a8f1d0c0",
   "metadata": {},
   "outputs": [],
   "source": [
    "ani1_norm_data = AnimalData.from_csv('ani1_normalized_test.csv')\n",
    "ani2_norm_data = AnimalData.from_csv('ani2_normalized_test.csv')"
   ]
  },
  {
   "cell_type": "code",
   "execution_count": 59,
   "id": "43fba2ca-4064-43c4-ac6a-9c3cb5b243ce",
   "metadata": {},
   "outputs": [],
   "source": [
    "ani1_cells = []\n",
    "ani2_cells = []\n",
    "for i in range(len(top_5_per_cell_pairs)):\n",
    "    pair = top_5_per_cell_pairs[i]\n",
    "    ani1_cells.append(pair[0])\n",
    "    ani2_cells.append(pair[1])"
   ]
  },
  {
   "cell_type": "code",
   "execution_count": 60,
   "id": "73a71531-28ef-4417-a274-07156a37d7a8",
   "metadata": {},
   "outputs": [
    {
     "data": {
      "text/plain": [
       "['C005',\n",
       " 'C012',\n",
       " 'C007',\n",
       " 'C012',\n",
       " 'C012',\n",
       " 'C013',\n",
       " 'C007',\n",
       " 'C012',\n",
       " 'C006',\n",
       " 'C007']"
      ]
     },
     "execution_count": 60,
     "metadata": {},
     "output_type": "execute_result"
    }
   ],
   "source": [
    "ani1_cells"
   ]
  },
  {
   "cell_type": "code",
   "execution_count": 61,
   "id": "5f16f349-16e7-4acf-96dc-fe8c2801cdd7",
   "metadata": {},
   "outputs": [
    {
     "data": {
      "text/plain": [
       "('C005', 'C004')"
      ]
     },
     "execution_count": 61,
     "metadata": {},
     "output_type": "execute_result"
    }
   ],
   "source": [
    "top_5_per_cell_pairs[0]"
   ]
  },
  {
   "cell_type": "code",
   "execution_count": 90,
   "id": "49a853d3-e387-4dcb-972b-8f99d7c40f67",
   "metadata": {},
   "outputs": [],
   "source": [
    "# creating function to graph 2 animal cells\n",
    "def create_2_ani_line_plot(a1_data, a2_data, cell_pair, output_filename):\n",
    "    \"\"\"Generates line plot of neural activity over time for cells.\"\"\"\n",
    "    cell1 = cell_pair[0]\n",
    "    cell2 = cell_pair[1]\n",
    "    plt.figure(figsize=(12, 7))\n",
    "    timestamps1, values1 = zip(*(a1_data.get_data_for_cell(cell1)))\n",
    "    plt.plot(timestamps1, values1, label=cell1)\n",
    "    timestamps2, values2 = zip(*(a2_data.get_data_for_cell(cell2)))\n",
    "    plt.plot(timestamps2, values2, label=cell2)\n",
    "    plt.xlabel('Timestamp')\n",
    "    plt.ylabel('Neural Activity Value')\n",
    "    plt.title('Neural Activity Over Time')\n",
    "    plt.legend()\n",
    "    plt.grid(True)\n",
    "    plt.tight_layout()\n",
    "    plt.show()"
   ]
  },
  {
   "cell_type": "code",
   "execution_count": 91,
   "id": "5f9d42fd-5210-42b3-83b1-8d698ae0d52a",
   "metadata": {},
   "outputs": [
    {
     "data": {
      "image/png": "[encoded data removed]",
      "text/plain": [
       "<Figure size 1200x700 with 1 Axes>"
      ]
     },
     "metadata": {},
     "output_type": "display_data"
    }
   ],
   "source": [
    "create_2_ani_line_plot(ani1_norm_data, ani2_norm_data, ['C005', 'C004'], 'test.png')"
   ]
  },
  {
   "cell_type": "code",
   "execution_count": 85,
   "id": "5a17aebc-0b18-4dbf-98d3-86549187d2f5",
   "metadata": {},
   "outputs": [
    {
     "data": {
      "text/plain": [
       "[<matplotlib.lines.Line2D at 0x7f78dd587b80>]"
      ]
     },
     "execution_count": 85,
     "metadata": {},
     "output_type": "execute_result"
    },
    {
     "data": {
      "image/png": "[encoded data removed]",
      "text/plain": [
       "<Figure size 1200x700 with 1 Axes>"
      ]
     },
     "metadata": {},
     "output_type": "display_data"
    }
   ],
   "source": [
    "plt.figure(figsize=(12, 7))\n",
    "timestamps1, values1 = zip(*(ani1_norm_data.get_data_for_cell('C005')))\n",
    "\n",
    "plt.plot(timestamps1[:2000], values1[:2000], label='C005')\n",
    "\n",
    "timestamps2, values2 = zip(*(ani2_norm_data.get_data_for_cell('C004')))\n",
    "plt.plot(timestamps2[:2000], values2[:2000], label='C004')"
   ]
  },
  {
   "cell_type": "code",
   "execution_count": null,
   "id": "8af14df4-d0e8-4c7f-8928-e0e6234e73f8",
   "metadata": {},
   "outputs": [],
   "source": []
  },
  {
   "cell_type": "code",
   "execution_count": null,
   "id": "8e838897-04e1-4b1e-9bd9-18c2c2e80ed5",
   "metadata": {},
   "outputs": [],
   "source": []
  }
 ],
 "metadata": {
  "kernelspec": {
   "display_name": "Python 3 (ipykernel)",
   "language": "python",
   "name": "python3"
  },
  "language_info": {
   "codemirror_mode": {
    "name": "ipython",
    "version": 3
   },
   "file_extension": ".py",
   "mimetype": "text/x-python",
   "name": "python",
   "nbconvert_exporter": "python",
   "pygments_lexer": "ipython3",
   "version": "3.10.8"
  }
 },
 "nbformat": 4,
 "nbformat_minor": 5
}
